{
 "cells": [
  {
   "cell_type": "markdown",
   "metadata": {
    "collapsed": true,
    "pycharm": {
     "name": "#%% md\n"
    }
   },
   "source": [
    "## Simulation des Action:\n",
    "pour simuler une action il faut:\n",
    "## Rapelles sur la fonction de répartition :\n",
    "fX(x) = p(X<=x) , fonction de répartition de X\n",
    "on rapelle </br>\n",
    "lim x => -infini FX(x) = 0,\n",
    "lim Fx en + infini = 1,\n",
    "X-> Fx appartien a 0,1 </br>\n",
    "## rapelle fonction de densité:\n",
    "ON dit que X admet une densité , ou la Fonction de répartition est égale a </br>\n",
    "Fx = intégrale de (- infini -> x) g(y) dy.\n",
    "## inverse généralisé de la fonction de répartition F-1(x)\n",
    "F-1(y) = inf {x : F(x)>=y } </br>\n",
    "et on la définiti essentiellement sur  y qui appartient a ]0,1[ car : </br>\n",
    "F-1(0) =  inf {x : F(x)>=0 } = inf \\]-inf,+inf[ = -inf\n",
    "### proposition :\n",
    "si U est une loi uniforme sur [0,1] alors : F-1x(U) suit la meme loi que X.( Prouvé dans le cours Monte Carclo)\n",
    "#### remarque :\n",
    "U est une loi uniforme sur[a,b] signifie que densité de u g(x) = 1/b-a * indicatrice[a,b] </br>\n",
    "## résultats:\n",
    "pour simuler des variables aléatoire de loi X il suffit de simuler les valeurs d'une loi U uniforme sur (0,1) et alors d'obtenir F-1X(U),quand on connait Fx-1."
   ]
  },
  {
   "cell_type": "code",
   "execution_count": 5,
   "outputs": [
    {
     "name": "stdout",
     "output_type": "stream",
     "text": [
      "[0.30245946 0.7724807  0.01450896 0.55525899 0.43338345 0.98817167\n",
      " 0.50894087 0.0199885  0.42316596 0.43802334]\n",
      "[2 3 1 2 2 4 2 1 2 2]\n"
     ]
    },
    {
     "data": {
      "text/plain": "<Figure size 432x288 with 1 Axes>",
      "image/png": "[encoded data removed]"
     },
     "metadata": {
      "needs_background": "light"
     },
     "output_type": "display_data"
    }
   ],
   "source": [
    "import numpy as np\n",
    "import numpy.random as sim\n",
    "import matplotlib.pyplot as plt\n",
    "\n",
    "def F(u): #F=Fx-1\n",
    "    y=1*(u<1/5)+2*(1/5<=u)*(u<7/10)+3*(7/10<=u)*(u<19/20)+4*(u>19/20)\n",
    "    return y\n",
    "\n",
    "N=10 #la taille de l'echantillon\n",
    "\n",
    "U=sim.ranf((N,))#loi uniforme sur [0,1]\n",
    "print(U)\n",
    "X=F(U)\n",
    "print(X)\n",
    "\n",
    "frq= np.arange(0,4,dtype=float)\n",
    "for i in range(0,4):\n",
    "    frq[i]=np.sum(1*(X==i+1))/N\n",
    "\n",
    "larg=0.8 #lar rectangles\n",
    "ax1=np.array([1,2,3,4])\n",
    "hoistX=plt.bar(ax1,frq,larg,color='b')\n",
    "plt.show()"
   ],
   "metadata": {
    "collapsed": false,
    "pycharm": {
     "name": "#%%\n"
    }
   }
  },
  {
   "cell_type": "markdown",
   "source": [
    "## Simulations de risques, moyenne relative\n",
    "ici le chema est le suivant\n",
    "\n",
    "![Course](images/img1.png)\n",
    "<img src=\"images/img1.png\" width=\"800\" height=\"400\">\n"
   ],
   "metadata": {
    "collapsed": false
   }
  },
  {
   "cell_type": "code",
   "execution_count": 6,
   "outputs": [
    {
     "ename": "NameError",
     "evalue": "name 'S' is not defined",
     "output_type": "error",
     "traceback": [
      "\u001B[0;31m---------------------------------------------------------------------------\u001B[0m",
      "\u001B[0;31mNameError\u001B[0m                                 Traceback (most recent call last)",
      "\u001B[0;32m<ipython-input-6-eb8061180b5a>\u001B[0m in \u001B[0;36m<module>\u001B[0;34m\u001B[0m\n\u001B[1;32m      2\u001B[0m \u001B[0;34m\u001B[0m\u001B[0m\n\u001B[1;32m      3\u001B[0m \u001B[0;32mfor\u001B[0m \u001B[0mj\u001B[0m \u001B[0;32min\u001B[0m \u001B[0mrange\u001B[0m \u001B[0;34m(\u001B[0m\u001B[0mN\u001B[0m\u001B[0;34m)\u001B[0m\u001B[0;34m:\u001B[0m\u001B[0;34m\u001B[0m\u001B[0;34m\u001B[0m\u001B[0m\n\u001B[0;32m----> 4\u001B[0;31m     \u001B[0mz\u001B[0m\u001B[0;34m=\u001B[0m\u001B[0mz\u001B[0m\u001B[0;34m+\u001B[0m\u001B[0mS\u001B[0m\u001B[0;34m[\u001B[0m\u001B[0mn\u001B[0m\u001B[0;34m,\u001B[0m\u001B[0mj\u001B[0m\u001B[0;34m]\u001B[0m\u001B[0;34m\u001B[0m\u001B[0;34m\u001B[0m\u001B[0m\n\u001B[0m\u001B[1;32m      5\u001B[0m \u001B[0;34m\u001B[0m\u001B[0m\n\u001B[1;32m      6\u001B[0m \u001B[0mz\u001B[0m\u001B[0;34m=\u001B[0m\u001B[0;34m(\u001B[0m\u001B[0mz\u001B[0m\u001B[0;34m/\u001B[0m\u001B[0mN\u001B[0m \u001B[0;34m)\u001B[0m\u001B[0;34m-\u001B[0m\u001B[0mS0\u001B[0m\u001B[0;34m*\u001B[0m\u001B[0mnp\u001B[0m\u001B[0;34m.\u001B[0m\u001B[0mexp\u001B[0m\u001B[0;34m(\u001B[0m\u001B[0mN\u001B[0m\u001B[0;34m*\u001B[0m\u001B[0mT\u001B[0m\u001B[0;34m)\u001B[0m\u001B[0;34m\u001B[0m\u001B[0;34m\u001B[0m\u001B[0m\n",
      "\u001B[0;31mNameError\u001B[0m: name 'S' is not defined"
     ]
    }
   ],
   "source": [],
   "metadata": {
    "collapsed": false,
    "pycharm": {
     "name": "#%%\n"
    }
   }
  }
 ],
 "metadata": {
  "kernelspec": {
   "display_name": "Python 3",
   "language": "python",
   "name": "python3"
  },
  "language_info": {
   "codemirror_mode": {
    "name": "ipython",
    "version": 2
   },
   "file_extension": ".py",
   "mimetype": "text/x-python",
   "name": "python",
   "nbconvert_exporter": "python",
   "pygments_lexer": "ipython2",
   "version": "2.7.6"
  }
 },
 "nbformat": 4,
 "nbformat_minor": 0
}