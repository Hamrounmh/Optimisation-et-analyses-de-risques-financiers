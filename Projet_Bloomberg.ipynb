{
 "cells": [
  {
   "cell_type": "markdown",
   "source": [
    "# Introduction\n",
    "\n",
    "Pour les économistes et les analystes financiers, les cours boursiers sont avant tout\n",
    "influencés par les informations issues du monde réel, à savoir les résultats des\n",
    "entreprises, la croissance économique, les conditions météorologiques, les conflits\n",
    "géopolitiques, etc. Toutes ces raisons sont louables et doivent être prises en compte par\n",
    "le trader ou l’investisseur. Néanmoins, pour l’analyste technique, l’information la plus\n",
    "importante est fournie par les cours boursiers. Car, au final, peut-on réellement\n",
    "considérer une nouvelle comme positive si le marché ne progresse pas ? La réponse est\n",
    "bien évidemment non. Ce qui fait bouger les marchés, c’est avant tout la confrontation\n",
    "entre les « offreurs » et les « demandeurs ». Cette confrontation perpétuelle est à\n",
    "l’origine de la formation des cours boursiers. Lorsque les acheteurs ont la main, les\n",
    "cours boursiers ont tendance à progresser. Inversement, lorsque le pessimisme règne, ce\n",
    "sont les vendeurs qui maîtrisent la situation et les cours boursiers déclinent.\n",
    "</br> donc pour les choix de ces actifs nous avons implémenter et appliquer les methodes de l'analyses techniques, plus le ressenti du marché exterrieur.\n",
    "## Analyse technique :\n",
    "Dans cette partie de l'analyse technique nous avis pris concience des indicateurs qui sont affiché dans la 2eme section de ce projet. Dans cette partie nous avons pratiqué notre analyse technique à l'aide des indicateurs dans yahoo finance.\n",
    "\n",
    "### Action 1 : Pfizer Inc. (PFE)\n",
    "#### Analyse technique:\n",
    "![image-2.png](attachment:image-2.png)\n",
    "#### commentaires:\n",
    "![image-3.png](attachment:image-3.png)\n",
    "</br>\n",
    "\n",
    "On remarque selon l'analyse technique que l'action de PFE est en tendence haussière clairement ce qui est un très bon indicateur pour pouvoir investir pour les prochain jours. Ainsi, le sentiement du marché nous indique qu'il faut renforcer son portfeuille avec cette action et selon la psychologie, l'action va s'evoluer en suivant la crise sanitère grace au besoin du vaccin fabriqué par le laboratoire fizer.\n",
    "Selon l'analyse technique, on remarque un taux de volatilité historique bas et un ecart type faible en ces derniers temps.\n",
    "### Action 2 : Xcel Energy Inc. (XEL)\n",
    "\n",
    "#### Analyse technique:\n",
    "![image-4.png](attachment:image-4.png)\n",
    "#### commentaires:\n",
    "![image-6.png](attachment:image-6.png)\n",
    "On remarque selon l'analyse technique que l'action XEL est en tendence haussière est c'est bien indiqué a l'aide de l'indicateur moyenne mobile. Ainsi, le sentiement du marché nous indique qu'il faut renforcer son portfeuille avec cette action. et selon la psychologie.Cet actif reste risqué relativement mais selon les indicateurs d'ecart type et volatilité ce risque est acceptable.\n",
    "### Action 3 : QUALCOMM Incorporated (QCOM)\n",
    "\n",
    "#### Analyse technique:\n",
    "Sur lalongue periode:\n",
    "![image-7.png](attachment:image-7.png)\n",
    "sur une période de 10 jours :\n",
    "![image-8.png](attachment:image-8.png)\n",
    "#### commentaires:\n",
    "Sentiment du marché :\n",
    "![image-9.png](attachment:image-9.png)\n",
    "</br>\n",
    "\n",
    "On remarque selon l'analyse technique que l'action QCOM est en tendence haussière moyenne est c'est bien indiqué a l'aide de l'indicateur envloppe moyenne mobile et la moyenne mobile. Ainsi, le sentiement du marché nous indique qu'il faut Acheter. et selon la psychologie.Cet actif est moin risque sur cette periode avec une volatilité egale a 2 pour l'instant.\n",
    "### Action 4 : NVIDIA Corporation (NVDA)\n",
    "\n",
    "#### Analyse technique:\n",
    "sur une période de 10 jours :\n",
    "![image-10.png](attachment:image-10.png)\n",
    "\n",
    "\n",
    "#### commentaires:\n",
    "Sentiment du marché :\n",
    "![image-11.png](attachment:image-11.png)\n",
    "\n",
    "On remarque selon l'analyse technique que l'action NVIDIA Corporation (NVDA) est en tendence haussière clair. Ainsi, le sentiement du marché nous indique qu'il faut Acheter. et selon la psychologie.Cet actif est moin risque sur cette periode avec une volatilité égale à 3.\n",
    "### Action 5 : Sumo Logic, Inc. (SUMO)\n",
    "\n",
    "#### Analyse technique:\n",
    "sur une période de 10 jours :\n",
    "![image-12.png](attachment:image-12.png)\n",
    "\n",
    "#### commentaires:\n",
    "Sentiment du marché :\n",
    "![image-13.png](attachment:image-13.png)\n",
    "\n",
    "On remarque selon l'analyse technique que l'action Sumo Logic, Inc. (SUMO) est en baisse. aprés ça cotation élevé. on prévois un retournement proche du marché. les lignes horizentales définis sur les point pivots, on a une haute fréquance en dessus de la valeur actuelle de l'actif en H4, ce qui implique avec une haute probabilité un retournement en hausse dee l'action.\n",
    "Le sentiment du marché partage la meme idée et nous indique qu'il faut acheter et en fort demande détenir l'action en attendant son évolution.\n",
    "### Action 6 : Vistra Corp. (VST)\n",
    "\n",
    "#### Analyse technique:\n",
    "sur une période de 10 jours :\n",
    "![image-14.png](attachment:image-14.png)\n",
    "\n",
    "#### commentaires:\n",
    "Sentiment du marché :\n",
    "![image-15.png](attachment:image-15.png)\n",
    "\n",
    "On remarque selon l'analyse technique que l'action Vistra Corp. (VST) est assez risqué. Mais, le sentiement du marché nous indique qu'il faut Acheter. et selon la psychologie.Cet actif est moin risque sur cette periode avec une volatilité égale à 3 pour l'instant.\n",
    "Suivant la théorie de Dow on mise sur Accumulation une suivis d'un retournement du marché qui arrivera dans pas longtemps selon les indicateurs :\n",
    "![image-16.png](attachment:image-16.png)\n",
    "![image-17.png](attachment:image-17.png)\n",
    "Selons les lignes horizentales sur les points de contacts, un retournement de situation et plus probable.\n",
    "tous ces indicateurs nous positionne en acheteur et que l'actif va s'évolue.\n",
    "### Action 7 : Microsoft Corporation (MSFT)\n",
    "\n",
    "#### Analyse technique:\n",
    "sur une période de 10 jours :\n",
    "![image-18.png](attachment:image-18.png)\n",
    "\n",
    "#### commentaires:\n",
    "Sentiment du marché :\n",
    "![image-19.png](attachment:image-19.png)\n",
    "On remarque selon l'analyse technique que l'action Microsoft Corporation (MSFT) est en tendance haussière. Mais, le sentiement du marché nous indique qu'il faut acheter principalement.\n",
    "tous ces indicateurs nous positionne en acheteur et que l'actif va s'évolue.\n",
    "\n",
    "### Action 8 : Tufin Software Technologies Ltd. (TUFN)\n",
    "\n",
    "#### Analyse technique:\n",
    "sur une période de 10 jours :\n",
    "![image-20.png](attachment:image-20.png)\n",
    "![image-21.png](attachment:image-21.png)\n",
    "\n",
    "\n",
    "#### commentaires:\n",
    "Sentiment du marché :\n",
    "![image-22.png](attachment:image-22.png)\n",
    "On remarque selon l'analyse technique que l'action Tufin Software Technologies Ltd. (TUFN) on a pas vraiment d'informations sur l'actifs en question mais, selon les points de contacts de la suite de fibonnacci et nottament, quand on dépasse les 50% l'actif se tends vers une hausse pour reprendre le prix initial et c'est aussi le sentiment du marché.\n",
    "### Action 9 : Advanced Micro Devices, Inc. (AMD)\n",
    "\n",
    "#### Analyse technique:\n",
    "sur une période de 10 jours :\n",
    "![image-23.png](attachment:image-23.png)\n",
    "\n",
    "\n",
    "#### commentaires:\n",
    "Sentiment du marché :\n",
    "![image-24.png](attachment:image-24.png)\n",
    "On remarque selon l'analyse technique que l'action Tufin Software Technologies Ltd. (TUFN) on a pas vraiment d'informations sur l'actifs en question mais, selon les points de contacts de la suite de fibonnacci et nottament, quand on dépasse les 50% l'actif se tends vers une hausse pour reprendre le prix initial et c'est aussi le sentiment du marché.\n",
    "\n",
    "### Action 10 : Tesla, Inc. (TSLA)\n",
    "\n",
    "#### Analyse technique:\n",
    "sur une période de 6mois:\n",
    "![image-25.png](attachment:image-25.png)\n",
    "![image-26.png](attachment:image-26.png)\n",
    "\n",
    "#### commentaires:\n",
    "Sentiment du marché :\n",
    "![image-27.png](attachment:image-27.png)\n",
    "Pour cet actif on est un peu métigé, le retournement dow dans 2e figure nous indique un retournement proche du marché qui tends vers une baisse, et c'est aussi le sentiment du marché. Mais, selon les informations et l'historique de l'entreprise et la volatilité de l'actif qui n'est pas vraiment risqué historiquement,  on préfere détenir."
   ],
   "metadata": {
    "collapsed": false
   }
  },
  {
   "cell_type": "markdown",
   "source": [
    "# Vision sur notre portfeuille\n"
   ],
   "metadata": {
    "collapsed": false
   }
  },
  {
   "cell_type": "code",
   "execution_count": 1,
   "outputs": [],
   "source": [
    "# Data loading :\n",
    "import time\n",
    "from alpha_vantage.techindicators import TechIndicators\n",
    "from alpha_vantage.sectorperformance import SectorPerformances\n",
    "from alpha_vantage.cryptocurrencies import CryptoCurrencies\n",
    "import pandas as pd\n",
    "import numpy as np\n",
    "import matplotlib\n",
    "import matplotlib.pyplot as plt\n",
    "from scipy.optimize import minimize\n",
    "from alpha_vantage.timeseries import TimeSeries\n",
    "\n",
    "\n",
    "matplotlib.rcParams['figure.figsize'] = (20.0, 10.0)\n",
    "ApiKeys=['VJMFOOF2142SSW1C','WYWB2IMM1ZI4532Q']\n",
    "ts = TimeSeries(ApiKeys[1], output_format='pandas')\n"
   ],
   "metadata": {
    "collapsed": false,
    "pycharm": {
     "name": "#%%\n"
    }
   }
  },
  {
   "cell_type": "markdown",
   "source": [
    "### Vision sur les performences des secteurs :"
   ],
   "metadata": {
    "collapsed": false
   }
  },
  {
   "cell_type": "code",
   "execution_count": 2,
   "outputs": [
    {
     "data": {
      "text/plain": "<Figure size 1440x720 with 1 Axes>",
      "image/png": "[encoded data removed]"
     },
     "metadata": {
      "needs_background": "light"
     },
     "output_type": "display_data"
    }
   ],
   "source": [
    "sp = SectorPerformances(key=ApiKeys[0], output_format='pandas')\n",
    "data, meta_data = sp.get_sector()\n",
    "data.describe()\n",
    "\n",
    "data['Rank A: Real-Time Performance'].plot(kind='bar')\n",
    "plt.title('Real Time Performance (%) per Sector')\n",
    "plt.tight_layout()\n",
    "plt.grid()\n",
    "plt.show()"
   ],
   "metadata": {
    "collapsed": false,
    "pycharm": {
     "name": "#%%\n"
    }
   }
  },
  {
   "cell_type": "code",
   "execution_count": null,
   "outputs": [],
   "source": [
    "stocks = ['XEL','AMD','PFE','NVDA','QCOM','SUMO','VST','TUFN','MSFT','TSLA']\n",
    "returns = pd.DataFrame({})\n",
    "i = 1\n",
    "for s in stocks: #portfolio_composition:\n",
    "    if i==6:\n",
    "        time.sleep(120)\n",
    "    data, meta_data = ts.get_daily_adjusted(symbol=s)\n",
    "    data['return_%s' % (s)] = data['4. close'].pct_change(1)\n",
    "    returns = returns.join(data[['return_%s' % (s)]],how=\"outer\").dropna()\n",
    "    i=i+1\n",
    "\n",
    "returns"
   ],
   "metadata": {
    "collapsed": false,
    "pycharm": {
     "name": "#%%\n",
     "is_executing": true
    }
   }
  },
  {
   "cell_type": "markdown",
   "source": [
    "## les indicateurs de pérformence pour chaque actif :\n",
    "![image.png](attachment:image.png)\n",
    "![image-2.png](attachment:image-2.png)\n",
    "![image-3.png](attachment:image-3.png)\n",
    "![image.png](attachment:image.png)\n",
    "![image-2.png](attachment:image-2.png)\n",
    "![image-3.png](attachment:image-3.png)\n",
    "![image-4.png](attachment:image-4.png)\n",
    "![image-5.png](attachment:image-5.png)\n",
    "![image-6.png](attachment:image-6.png)\n",
    "![image-7.png](attachment:image-7.png)"
   ],
   "metadata": {
    "collapsed": false
   }
  },
  {
   "cell_type": "code",
   "execution_count": null,
   "outputs": [],
   "source": [
    "returns.plot()"
   ],
   "metadata": {
    "collapsed": false,
    "pycharm": {
     "name": "#%%\n",
     "is_executing": true
    }
   }
  },
  {
   "cell_type": "code",
   "execution_count": null,
   "outputs": [],
   "source": [
    "daily_returns_portfolio_mean = returns.mean()\n",
    "daily_returns_portfolio_mean"
   ],
   "metadata": {
    "collapsed": false,
    "pycharm": {
     "name": "#%%\n",
     "is_executing": true
    }
   }
  },
  {
   "cell_type": "markdown",
   "source": [
    "### Matrice de covariance :\n",
    "à utiliser dans le modèl markowitz pour trouer la meilleure rpéartition du portfeuille !"
   ],
   "metadata": {
    "collapsed": false
   }
  },
  {
   "cell_type": "code",
   "execution_count": null,
   "outputs": [],
   "source": [
    "\n",
    "def constraint1(X):\n",
    "    sum = 1\n",
    "    for i in range(1,X.size):\n",
    "        sum = sum - X[i]\n",
    "    return sum\n",
    "\n",
    "def constraint2(X):\n",
    "    sum = 0\n",
    "    for i in range(1,X.size):\n",
    "        sum += X[i]*daily_returns_portfolio_mean[i]\n",
    "    return sum - RendementVise\n",
    "\n",
    "def minimizationfunction(x):\n",
    "    somme=0\n",
    "    for i in range(len(x)):\n",
    "        for j in range(len(x)):\n",
    "            somme += MatCov.values[i,j]*x[j]*x[i]\n",
    "    return somme\n",
    "\n",
    "def minimizing(taille):\n",
    "    cons = ({'type': 'eq', 'fun': constraint1 },\n",
    "            {'type': 'ineq', 'fun': constraint2 })\n",
    "    x=np.ones(taille)\n",
    "    bounds = []\n",
    "    for i in range(taille):\n",
    "        bounds.append((0.0001,None))\n",
    "\n",
    "    result = minimize(minimizationfunction, x,   options={'verbose': 1}, bounds=bounds, method='trust-constr',constraints=cons )\n",
    "    solutions = result.x\n",
    "    print(solutions)\n",
    "    return solutions\n"
   ],
   "metadata": {
    "collapsed": false,
    "pycharm": {
     "name": "#%%\n",
     "is_executing": true
    }
   }
  },
  {
   "cell_type": "markdown",
   "source": [
    "## Application du modèl markowitz sur notre portfeuille\n",
    "Dans cette partie nous avons appliqué le modèl markowitz sur notre portfeuille, Nous avons calculé la matrice des covariances apartir de l'historique des rendements. Ensuite, nous avons calculé la moyenne des rendemnts des actifs. Pour finalement, passer ces parametres a notres modél markowitz que nous avons implementé pour avoir la meilleure répartition des fraction d'actif avec une variance minimal"
   ],
   "metadata": {
    "collapsed": false
   }
  },
  {
   "cell_type": "code",
   "execution_count": null,
   "outputs": [],
   "source": [
    "def markowitz(RendementVise,taille):\n",
    "    RendementVise=RendementVise\n",
    "    return minimizing(taille)\n",
    "MatCov = returns.cov()\n",
    "RendementVise=0.0009\n",
    "initial_weight = markowitz(RendementVise,len(stocks))\n",
    "\n",
    "print(\"\\n\\n\\nles fractions d'actifs sont:\" , initial_weight)"
   ],
   "metadata": {
    "collapsed": false,
    "pycharm": {
     "name": "#%%\n",
     "is_executing": true
    }
   }
  },
  {
   "cell_type": "markdown",
   "source": [
    "## Rendement total du portfeuille :\n"
   ],
   "metadata": {
    "collapsed": false
   }
  },
  {
   "cell_type": "code",
   "execution_count": null,
   "outputs": [],
   "source": [
    "allocated_daily_returns = (initial_weight * daily_returns_portfolio_mean)\n",
    "portfolio_return = np.sum(allocated_daily_returns)\n",
    "portfolio_return"
   ],
   "metadata": {
    "collapsed": false,
    "pycharm": {
     "name": "#%%\n",
     "is_executing": true
    }
   }
  },
  {
   "cell_type": "code",
   "execution_count": null,
   "outputs": [],
   "source": [
    "Cumulative_returns_daily = (1+returns).cumprod() -1\n",
    "Cumulative_returns_daily\n"
   ],
   "metadata": {
    "collapsed": false,
    "pycharm": {
     "name": "#%%\n",
     "is_executing": true
    }
   }
  },
  {
   "cell_type": "code",
   "execution_count": null,
   "outputs": [],
   "source": [
    "Cumulative_returns_daily.plot()"
   ],
   "metadata": {
    "collapsed": false,
    "pycharm": {
     "name": "#%%\n",
     "is_executing": true
    }
   }
  },
  {
   "cell_type": "markdown",
   "source": [
    "### Daily portfolio portfolio return\n"
   ],
   "metadata": {
    "collapsed": false
   }
  },
  {
   "cell_type": "code",
   "execution_count": null,
   "outputs": [],
   "source": [
    "portfolio_daily_returns = returns.dot(initial_weight)\n",
    "portfolio_daily_returns\n"
   ],
   "metadata": {
    "collapsed": false,
    "pycharm": {
     "name": "#%%\n",
     "is_executing": true
    }
   }
  },
  {
   "cell_type": "code",
   "execution_count": null,
   "outputs": [],
   "source": [
    "Cumulative_portfolio_returns_daily = (1+portfolio_daily_returns).cumprod()-1\n",
    "Cumulative_portfolio_returns_daily\n",
    "Cumulative_portfolio_returns_daily.plot()"
   ],
   "metadata": {
    "collapsed": false,
    "pycharm": {
     "name": "#%%\n",
     "is_executing": true
    }
   }
  },
  {
   "cell_type": "markdown",
   "source": [
    "## Le portfeuille benchmark :\n"
   ],
   "metadata": {
    "collapsed": false
   }
  },
  {
   "cell_type": "code",
   "execution_count": null,
   "outputs": [],
   "source": [
    "data, meta_data = ts.get_daily_adjusted(symbol='SPY')\n",
    "spy_return = data['4. close'].pct_change(1)\n",
    "\n",
    "import numpy as np\n",
    "x = range(len(portfolio_daily_returns))\n",
    "pr = portfolio_daily_returns\n",
    "#plt.rcParams['figure.figsize'] = [10, 10]\n",
    "\n",
    "plt.plot(x,pr,label=\"Portfolio\")\n",
    "plt.plot(range(len(spy_return)),spy_return,label=\" SP500\")\n",
    "\n",
    "plt.xlabel(\"Day\")\n",
    "plt.ylabel(\"Portfolio return\")\n",
    "\n",
    "plt.grid()\n",
    "plt.legend()\n",
    "\n",
    "plt.show()"
   ],
   "metadata": {
    "collapsed": false,
    "pycharm": {
     "name": "#%%\n",
     "is_executing": true
    }
   }
  },
  {
   "cell_type": "code",
   "execution_count": null,
   "outputs": [],
   "source": [
    "spy_cum = (1+spy_return).cumprod()-1\n",
    "prc =  (1+portfolio_daily_returns).cumprod()-1\n",
    "x = range(len(prc))\n",
    "#x = range(spy_cum)\n",
    "#plt.rcParams['figure.figsize'] = [10, 10]\n",
    "\n",
    "plt.plot(x,prc,label=\"Portfolio\")\n",
    "plt.plot(range(len(spy_cum)),spy_cum,label=\" SP500\")\n",
    "\n",
    "plt.xlabel(\"Day\")\n",
    "plt.ylabel(\"Portfolio return\")\n",
    "\n",
    "plt.grid()\n",
    "plt.legend()\n",
    "\n",
    "plt.show()"
   ],
   "metadata": {
    "collapsed": false,
    "pycharm": {
     "name": "#%%\n",
     "is_executing": true
    }
   }
  },
  {
   "cell_type": "markdown",
   "source": [
    "### Sharpe Ratio"
   ],
   "metadata": {
    "collapsed": false
   }
  },
  {
   "cell_type": "code",
   "execution_count": null,
   "outputs": [],
   "source": [
    "Sharpe_Ratio = portfolio_return / portfolio_daily_returns.std()\n",
    "Sharpe_Ratio"
   ],
   "metadata": {
    "collapsed": false,
    "pycharm": {
     "name": "#%%\n",
     "is_executing": true
    }
   }
  },
  {
   "cell_type": "markdown",
   "source": [
    "# Notre portfeuille finale :\n"
   ],
   "metadata": {
    "collapsed": false
   }
  },
  {
   "cell_type": "markdown",
   "source": [
    "<table>\n",
    "  <tbody>\n",
    "  <tr>\n",
    "  <td >Actifs</td>\n",
    "  <td >XEL</td>\n",
    "  <td width=\"83\">AMD</td>\n",
    "  <td width=\"83\">PFE</td>\n",
    "  <td width=\"83\">NVDA</td>\n",
    "  <td width=\"83\">QCOM</td>\n",
    "  <td width=\"83\">SUMO</td>\n",
    "  <td width=\"83\">VST</td>\n",
    "  <td width=\"83\">TUFN</td>\n",
    "  <td width=\"83\">MSFT</td>\n",
    "  <td width=\"83\">TSLA</td>\n",
    "  </tr>\n",
    "  <tr>\n",
    "  <td>La fraction du portfeuille</td>\n",
    "  <td>0.00222</td>\n",
    "  <td>0.00248</td>\n",
    "  <td>0.47979</td>\n",
    "  <td>0.19947</td>\n",
    "  <td>0.00098</td>\n",
    "  <td>0.07991</td>\n",
    "  <td>0.23616</td>\n",
    "  <td>0.00024</td>\n",
    "  <td>0.00069</td>\n",
    "  <td>0.00024</td>\n",
    "  </tr>\n",
    "  <tr>\n",
    "  <td>total ratio de sharpe</td>\n",
    "  <td>60%</td>\n",
    "\n",
    "  </tr>\n",
    "  </tbody>\n",
    "  </table>"
   ],
   "metadata": {
    "collapsed": false
   }
  },
  {
   "cell_type": "code",
   "execution_count": null,
   "outputs": [],
   "source": [],
   "metadata": {
    "collapsed": false,
    "pycharm": {
     "name": "#%%\n",
     "is_executing": true
    }
   }
  }
 ],
 "metadata": {
  "kernelspec": {
   "display_name": "Python 3",
   "language": "python",
   "name": "python3"
  },
  "language_info": {
   "codemirror_mode": {
    "name": "ipython",
    "version": 3
   },
   "file_extension": ".py",
   "mimetype": "text/x-python",
   "name": "python",
   "nbconvert_exporter": "python",
   "pygments_lexer": "ipython3",
   "version": "3.8.6"
  }
 },
 "nbformat": 4,
 "nbformat_minor": 5
}